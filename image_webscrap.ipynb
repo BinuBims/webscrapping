{
 "cells": [
  {
   "cell_type": "code",
   "execution_count": 1,
   "metadata": {},
   "outputs": [],
   "source": [
    "from bs4 import BeautifulSoup\n",
    "import requests\n",
    "import os"
   ]
  },
  {
   "cell_type": "code",
   "execution_count": 3,
   "metadata": {
    "collapsed": true
   },
   "outputs": [
    {
     "name": "stdout",
     "output_type": "stream",
     "text": [
      "0\n",
      "1\n",
      "2\n",
      "3\n",
      "4\n",
      "5\n",
      "6\n",
      "7\n",
      "8\n",
      "9\n",
      "10\n",
      "11\n",
      "12\n",
      "13\n",
      "14\n",
      "15\n",
      "16\n",
      "17\n",
      "18\n",
      "19\n",
      "20\n",
      "21\n"
     ]
    }
   ],
   "source": [
    "#remember to check image src and see if it is a full url if not change the link.\n",
    "try:\n",
    "    folder = 'd4'\n",
    "    os.mkdir(os.path.join('/home/binu/webscrapping/tutorial1',folder))\n",
    "    os.chdir(os.path.join('/home/binu/webscrapping/tutorial1',folder))\n",
    "    html_text = requests.get('https://www.leonardodavinci.net/paintings.jsp').text\n",
    "    soup = BeautifulSoup(html_text,'lxml')\n",
    "    img_link = soup.find_all('img')\n",
    "    for idx,img in enumerate(img_link):\n",
    "        link = 'https://www.leonardodavinci.net'+img['src']\n",
    "        with open(str(idx) + '.jpg','wb') as f:\n",
    "            im = requests.get(link)\n",
    "            f.write(im.content)\n",
    "            print(idx)\n",
    "    os.chdir('../')\n",
    "except:\n",
    "    pass\n"
   ]
  },
  {
   "cell_type": "code",
   "execution_count": 7,
   "metadata": {},
   "outputs": [
    {
     "data": {
      "text/plain": [
       "\"def imagescrap(url,folder):\\n    try:\\n        os.mkdir(os.path.join(os.getcwd(),folder))\\n        os.chdir(os.path.join(os.getcwd(),folder))\\n        html_text = requests.get(url).text\\n        soup = BeautifulSoup(html_text,'lxml')\\n        img_link = soup.find_all('img')\\n        for img in img_link:\\n            name = img['alt'].split(',')[0]\\n            link = img['src']\\n            with open(name + '.jpg','wb') as f:\\n                im = requests.get(link)\\n                f.write(im.content)\\n            print(name)\\n    except:\\n        pass\""
      ]
     },
     "execution_count": 7,
     "metadata": {},
     "output_type": "execute_result"
    }
   ],
   "source": [
    "#if you want to get name of the pictures\n",
    "'''def imagescrap(url,folder):\n",
    "    try:\n",
    "        os.mkdir(os.path.join(os.getcwd(),folder))\n",
    "        os.chdir(os.path.join(os.getcwd(),folder))\n",
    "        html_text = requests.get(url).text\n",
    "        soup = BeautifulSoup(html_text,'lxml')\n",
    "        img_link = soup.find_all('img')\n",
    "        for img in img_link:\n",
    "            name = img['alt'].split(',')[0]\n",
    "            link = img['src']\n",
    "            with open(name + '.jpg','wb') as f:\n",
    "                im = requests.get(link)\n",
    "                f.write(im.content)\n",
    "            print(name)\n",
    "    except:\n",
    "        pass'''"
   ]
  }
 ],
 "metadata": {
  "kernelspec": {
   "display_name": "Python 3",
   "language": "python",
   "name": "python3"
  },
  "language_info": {
   "codemirror_mode": {
    "name": "ipython",
    "version": 3
   },
   "file_extension": ".py",
   "mimetype": "text/x-python",
   "name": "python",
   "nbconvert_exporter": "python",
   "pygments_lexer": "ipython3",
   "version": "3.8.5"
  }
 },
 "nbformat": 4,
 "nbformat_minor": 4
}
